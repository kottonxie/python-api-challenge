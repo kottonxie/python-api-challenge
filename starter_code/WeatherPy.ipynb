{
 "cells": [
  {
   "cell_type": "markdown",
   "metadata": {},
   "source": [
    "# WeatherPy\n",
    "\n",
    "---\n",
    "\n",
    "## Starter Code to Generate Random Geographic Coordinates and a List of Cities"
   ]
  },
  {
   "cell_type": "code",
   "execution_count": 1,
   "metadata": {
    "scrolled": true
   },
   "outputs": [],
   "source": [
    "# Dependencies and Setup\n",
    "import matplotlib.pyplot as plt\n",
    "import pandas as pd\n",
    "import numpy as np\n",
    "import requests\n",
    "import time\n",
    "from scipy.stats import linregress\n",
    "\n",
    "# Impor the OpenWeatherMap API key\n",
    "from api_keys import weather_api_key\n",
    "\n",
    "# Import citipy to determine the cities based on latitude and longitude\n",
    "from citipy import citipy"
   ]
  },
  {
   "cell_type": "markdown",
   "metadata": {},
   "source": [
    "### Generate the Cities List by Using the `citipy` Library"
   ]
  },
  {
   "cell_type": "code",
   "execution_count": 2,
   "metadata": {},
   "outputs": [
    {
     "name": "stdout",
     "output_type": "stream",
     "text": [
      "Number of cities in the list: 595\n"
     ]
    }
   ],
   "source": [
    "# Empty list for holding the latitude and longitude combinations\n",
    "lat_lngs = []\n",
    "\n",
    "# Empty list for holding the cities names\n",
    "cities = []\n",
    "\n",
    "# Range of latitudes and longitudes\n",
    "lat_range = (-90, 90)\n",
    "lng_range = (-180, 180)\n",
    "\n",
    "# Create a set of random lat and lng combinations\n",
    "lats = np.random.uniform(lat_range[0], lat_range[1], size=1500)\n",
    "lngs = np.random.uniform(lng_range[0], lng_range[1], size=1500)\n",
    "lat_lngs = zip(lats, lngs)\n",
    "\n",
    "# Identify nearest city for each lat, lng combination\n",
    "for lat_lng in lat_lngs:\n",
    "    city = citipy.nearest_city(lat_lng[0], lat_lng[1]).city_name\n",
    "    \n",
    "    # If the city is unique, then add it to a our cities list\n",
    "    if city not in cities:\n",
    "        cities.append(city)\n",
    "\n",
    "# Print the city count to confirm sufficient count\n",
    "print(f\"Number of cities in the list: {len(cities)}\")"
   ]
  },
  {
   "cell_type": "markdown",
   "metadata": {},
   "source": [
    "---"
   ]
  },
  {
   "cell_type": "markdown",
   "metadata": {},
   "source": [
    "## Requirement 1: Create Plots to Showcase the Relationship Between Weather Variables and Latitude\n",
    "\n",
    "### Use the OpenWeatherMap API to retrieve weather data from the cities list generated in the started code"
   ]
  },
  {
   "cell_type": "code",
   "execution_count": 3,
   "metadata": {},
   "outputs": [
    {
     "name": "stdout",
     "output_type": "stream",
     "text": [
      "Beginning Data Retrieval     \n",
      "-----------------------------\n",
      "Processing Record 1 of Set 1 | hay river\n",
      "Processing Record 2 of Set 1 | taolanaro\n",
      "City not found. Skipping...\n",
      "Processing Record 3 of Set 1 | paradwip\n",
      "City not found. Skipping...\n",
      "Processing Record 4 of Set 1 | saskylakh\n",
      "Processing Record 5 of Set 1 | busselton\n",
      "Processing Record 6 of Set 1 | port alfred\n",
      "Processing Record 7 of Set 1 | east london\n",
      "Processing Record 8 of Set 1 | byron bay\n",
      "Processing Record 9 of Set 1 | ribeira grande\n",
      "Processing Record 10 of Set 1 | torbay\n",
      "Processing Record 11 of Set 1 | lagoa\n",
      "Processing Record 12 of Set 1 | halalo\n",
      "City not found. Skipping...\n",
      "Processing Record 13 of Set 1 | portland\n",
      "Processing Record 14 of Set 1 | albany\n",
      "Processing Record 15 of Set 1 | chikoy\n",
      "City not found. Skipping...\n",
      "Processing Record 16 of Set 1 | ratlam\n",
      "Processing Record 17 of Set 1 | maragogi\n",
      "Processing Record 18 of Set 1 | punta arenas\n",
      "Processing Record 19 of Set 1 | orlik\n",
      "Processing Record 20 of Set 1 | illoqqortoormiut\n",
      "City not found. Skipping...\n",
      "Processing Record 21 of Set 1 | upernavik\n",
      "Processing Record 22 of Set 1 | tsihombe\n",
      "City not found. Skipping...\n",
      "Processing Record 23 of Set 1 | gambela\n",
      "Processing Record 24 of Set 1 | buala\n",
      "Processing Record 25 of Set 1 | dikson\n",
      "Processing Record 26 of Set 1 | ponta do sol\n",
      "Processing Record 27 of Set 1 | arraial do cabo\n",
      "Processing Record 28 of Set 1 | avarua\n",
      "Processing Record 29 of Set 1 | barentsburg\n",
      "City not found. Skipping...\n",
      "Processing Record 30 of Set 1 | teguise\n",
      "Processing Record 31 of Set 1 | pimentel\n",
      "Processing Record 32 of Set 1 | hambantota\n",
      "Processing Record 33 of Set 1 | jamestown\n",
      "Processing Record 34 of Set 1 | henties bay\n",
      "Processing Record 35 of Set 1 | mar del plata\n",
      "Processing Record 36 of Set 1 | new norfolk\n",
      "Processing Record 37 of Set 1 | kapaa\n",
      "Processing Record 38 of Set 1 | puerto ayora\n",
      "Processing Record 39 of Set 1 | aklavik\n",
      "Processing Record 40 of Set 1 | skelleftea\n",
      "Processing Record 41 of Set 1 | kaitangata\n",
      "Processing Record 42 of Set 1 | vila\n",
      "Processing Record 43 of Set 1 | gravdal\n",
      "Processing Record 44 of Set 1 | noumea\n",
      "Processing Record 45 of Set 1 | chuy\n",
      "Processing Record 46 of Set 1 | hermanus\n",
      "Processing Record 47 of Set 1 | zhangye\n",
      "Processing Record 48 of Set 1 | bluff\n",
      "Processing Record 49 of Set 1 | saint-francois\n",
      "Processing Record 50 of Set 1 | cockburn town\n",
      "Processing Record 0 of Set 2 | castro\n",
      "Processing Record 1 of Set 2 | rawson\n",
      "Processing Record 2 of Set 2 | mahenge\n",
      "Processing Record 3 of Set 2 | kawalu\n",
      "Processing Record 4 of Set 2 | butaritari\n",
      "Processing Record 5 of Set 2 | tuktoyaktuk\n",
      "Processing Record 6 of Set 2 | mahebourg\n",
      "Processing Record 7 of Set 2 | lebu\n",
      "Processing Record 8 of Set 2 | lorengau\n",
      "Processing Record 9 of Set 2 | faanui\n",
      "Processing Record 10 of Set 2 | puerto colombia\n",
      "Processing Record 11 of Set 2 | nortelandia\n",
      "Processing Record 12 of Set 2 | rikitea\n",
      "Processing Record 13 of Set 2 | ahumada\n",
      "City not found. Skipping...\n",
      "Processing Record 14 of Set 2 | khorixas\n",
      "Processing Record 15 of Set 2 | mataura\n",
      "Processing Record 16 of Set 2 | cape town\n",
      "Processing Record 17 of Set 2 | caldwell\n",
      "Processing Record 18 of Set 2 | vaini\n",
      "Processing Record 19 of Set 2 | lata\n",
      "Processing Record 20 of Set 2 | dabat\n",
      "Processing Record 21 of Set 2 | kitimat\n",
      "Processing Record 22 of Set 2 | wulanhaote\n",
      "City not found. Skipping...\n",
      "Processing Record 23 of Set 2 | nikki\n",
      "Processing Record 24 of Set 2 | barrow\n",
      "Processing Record 25 of Set 2 | beloha\n",
      "Processing Record 26 of Set 2 | vardo\n",
      "Processing Record 27 of Set 2 | hamilton\n",
      "Processing Record 28 of Set 2 | belushya guba\n",
      "City not found. Skipping...\n",
      "Processing Record 29 of Set 2 | alta floresta\n",
      "Processing Record 30 of Set 2 | toliary\n",
      "City not found. Skipping...\n",
      "Processing Record 31 of Set 2 | escanaba\n",
      "Processing Record 32 of Set 2 | wakema\n",
      "Processing Record 33 of Set 2 | inderborskiy\n",
      "City not found. Skipping...\n",
      "Processing Record 34 of Set 2 | port elizabeth\n",
      "Processing Record 35 of Set 2 | grand gaube\n",
      "Processing Record 36 of Set 2 | kloulklubed\n",
      "Processing Record 37 of Set 2 | ilhabela\n",
      "Processing Record 38 of Set 2 | flinders\n",
      "Processing Record 39 of Set 2 | qaanaaq\n",
      "Processing Record 40 of Set 2 | atuona\n",
      "Processing Record 41 of Set 2 | baker city\n",
      "Processing Record 42 of Set 2 | nisia floresta\n",
      "Processing Record 43 of Set 2 | ushuaia\n",
      "Processing Record 44 of Set 2 | hithadhoo\n",
      "Processing Record 45 of Set 2 | kodiak\n",
      "Processing Record 46 of Set 2 | kutum\n",
      "Processing Record 47 of Set 2 | challapata\n",
      "Processing Record 48 of Set 2 | charlestown\n",
      "Processing Record 49 of Set 2 | salalah\n",
      "Processing Record 0 of Set 3 | guerrero negro\n",
      "Processing Record 1 of Set 3 | yeppoon\n",
      "Processing Record 2 of Set 3 | hobart\n",
      "Processing Record 3 of Set 3 | tiksi\n",
      "Processing Record 4 of Set 3 | norman wells\n",
      "Processing Record 5 of Set 3 | yellowknife\n",
      "Processing Record 6 of Set 3 | pyshma\n",
      "Processing Record 7 of Set 3 | shu\n",
      "Processing Record 8 of Set 3 | lompoc\n",
      "Processing Record 9 of Set 3 | mys shmidta\n",
      "City not found. Skipping...\n",
      "Processing Record 10 of Set 3 | souillac\n",
      "Processing Record 11 of Set 3 | payakumbuh\n",
      "Processing Record 12 of Set 3 | cap malheureux\n",
      "Processing Record 13 of Set 3 | gandu\n",
      "Processing Record 14 of Set 3 | tezu\n",
      "Processing Record 15 of Set 3 | grand river south east\n",
      "City not found. Skipping...\n",
      "Processing Record 16 of Set 3 | naryan-mar\n",
      "Processing Record 17 of Set 3 | sao joao da barra\n",
      "Processing Record 18 of Set 3 | kapit\n",
      "Processing Record 19 of Set 3 | bengkulu\n",
      "Processing Record 20 of Set 3 | high level\n",
      "Processing Record 21 of Set 3 | pingliang\n",
      "Processing Record 22 of Set 3 | marsh harbour\n",
      "Processing Record 23 of Set 3 | sao gabriel da cachoeira\n",
      "Processing Record 24 of Set 3 | samarai\n",
      "Processing Record 25 of Set 3 | adrar\n",
      "Processing Record 26 of Set 3 | bredasdorp\n",
      "Processing Record 27 of Set 3 | pangody\n",
      "Processing Record 28 of Set 3 | shieli\n",
      "Processing Record 29 of Set 3 | ayios matthaios\n",
      "City not found. Skipping...\n",
      "Processing Record 30 of Set 3 | koroni\n",
      "Processing Record 31 of Set 3 | saldanha\n",
      "Processing Record 32 of Set 3 | dingle\n",
      "Processing Record 33 of Set 3 | brae\n",
      "Processing Record 34 of Set 3 | nizhneyansk\n",
      "City not found. Skipping...\n",
      "Processing Record 35 of Set 3 | kyshtovka\n",
      "Processing Record 36 of Set 3 | mount isa\n",
      "Processing Record 37 of Set 3 | caravelas\n",
      "Processing Record 38 of Set 3 | denau\n",
      "City not found. Skipping...\n",
      "Processing Record 39 of Set 3 | hilo\n",
      "Processing Record 40 of Set 3 | hokitika\n",
      "Processing Record 41 of Set 3 | khatanga\n",
      "Processing Record 42 of Set 3 | mahon\n",
      "Processing Record 43 of Set 3 | leningradskiy\n",
      "Processing Record 44 of Set 3 | ust-kamchatsk\n",
      "City not found. Skipping...\n",
      "Processing Record 45 of Set 3 | cherskiy\n",
      "Processing Record 46 of Set 3 | mazamari\n",
      "Processing Record 47 of Set 3 | shelton\n",
      "Processing Record 48 of Set 3 | kavaratti\n",
      "Processing Record 49 of Set 3 | port lincoln\n",
      "Processing Record 0 of Set 4 | thompson\n",
      "Processing Record 1 of Set 4 | fortuna\n",
      "Processing Record 2 of Set 4 | leh\n",
      "Processing Record 3 of Set 4 | sentyabrskiy\n",
      "City not found. Skipping...\n",
      "Processing Record 4 of Set 4 | cabedelo\n",
      "Processing Record 5 of Set 4 | clyde river\n",
      "Processing Record 6 of Set 4 | alofi\n",
      "Processing Record 7 of Set 4 | voh\n",
      "Processing Record 8 of Set 4 | bonthe\n",
      "Processing Record 9 of Set 4 | meulaboh\n",
      "Processing Record 10 of Set 4 | tual\n",
      "Processing Record 11 of Set 4 | teknaf\n",
      "Processing Record 12 of Set 4 | tasiilaq\n",
      "Processing Record 13 of Set 4 | naze\n",
      "Processing Record 14 of Set 4 | uruacu\n",
      "Processing Record 15 of Set 4 | varna\n",
      "Processing Record 16 of Set 4 | kruisfontein\n",
      "Processing Record 17 of Set 4 | geraldton\n",
      "Processing Record 18 of Set 4 | maarianhamina\n",
      "Processing Record 19 of Set 4 | bhatkal\n",
      "Processing Record 20 of Set 4 | carnarvon\n",
      "Processing Record 21 of Set 4 | mount gambier\n",
      "Processing Record 22 of Set 4 | labuhan\n",
      "Processing Record 23 of Set 4 | boa vista\n",
      "Processing Record 24 of Set 4 | saint-philippe\n",
      "Processing Record 25 of Set 4 | kushmurun\n",
      "Processing Record 26 of Set 4 | ocean city\n",
      "Processing Record 27 of Set 4 | goderich\n",
      "Processing Record 28 of Set 4 | yulara\n",
      "Processing Record 29 of Set 4 | crab hill\n",
      "City not found. Skipping...\n",
      "Processing Record 30 of Set 4 | bonfim\n",
      "Processing Record 31 of Set 4 | bambous virieux\n",
      "Processing Record 32 of Set 4 | mormugao\n",
      "Processing Record 33 of Set 4 | borlange\n",
      "City not found. Skipping...\n",
      "Processing Record 34 of Set 4 | west bay\n",
      "Processing Record 35 of Set 4 | airai\n",
      "Processing Record 36 of Set 4 | alampur\n",
      "Processing Record 37 of Set 4 | tazovskiy\n",
      "Processing Record 38 of Set 4 | ferme-neuve\n",
      "Processing Record 39 of Set 4 | cabra\n",
      "Processing Record 40 of Set 4 | vila franca do campo\n",
      "Processing Record 41 of Set 4 | richards bay\n",
      "Processing Record 42 of Set 4 | seoni\n",
      "Processing Record 43 of Set 4 | chingirlau\n",
      "Processing Record 44 of Set 4 | tromso\n",
      "Processing Record 45 of Set 4 | kalmunai\n",
      "Processing Record 46 of Set 4 | ponnani\n",
      "Processing Record 47 of Set 4 | nikolskoye\n",
      "Processing Record 48 of Set 4 | lexington\n",
      "Processing Record 49 of Set 4 | ostersund\n",
      "Processing Record 0 of Set 5 | huarmey\n",
      "Processing Record 1 of Set 5 | los llanos de aridane\n",
      "Processing Record 2 of Set 5 | luderitz\n",
      "Processing Record 3 of Set 5 | fort morgan\n",
      "Processing Record 4 of Set 5 | bowmore\n",
      "Processing Record 5 of Set 5 | ordynskoye\n",
      "Processing Record 6 of Set 5 | longyearbyen\n",
      "Processing Record 7 of Set 5 | bubaque\n",
      "Processing Record 8 of Set 5 | mitu\n",
      "Processing Record 9 of Set 5 | esperance\n",
      "Processing Record 10 of Set 5 | newport\n",
      "Processing Record 11 of Set 5 | sao filipe\n",
      "Processing Record 12 of Set 5 | saint-augustin\n",
      "Processing Record 13 of Set 5 | laguna\n",
      "Processing Record 14 of Set 5 | anadyr\n",
      "Processing Record 15 of Set 5 | san marcos\n",
      "Processing Record 16 of Set 5 | teya\n",
      "Processing Record 17 of Set 5 | chokurdakh\n",
      "Processing Record 18 of Set 5 | miraflores\n",
      "Processing Record 19 of Set 5 | kahului\n",
      "Processing Record 20 of Set 5 | zheleznodorozhnyy\n",
      "Processing Record 21 of Set 5 | shache\n",
      "Processing Record 22 of Set 5 | murgab\n",
      "Processing Record 23 of Set 5 | cabatuan\n",
      "Processing Record 24 of Set 5 | olafsvik\n",
      "Processing Record 25 of Set 5 | college\n",
      "Processing Record 26 of Set 5 | tilichiki\n",
      "Processing Record 27 of Set 5 | coquimbo\n",
      "Processing Record 28 of Set 5 | victoria\n",
      "Processing Record 29 of Set 5 | komsomolskiy\n",
      "Processing Record 30 of Set 5 | quelimane\n",
      "Processing Record 31 of Set 5 | bystryy istok\n",
      "Processing Record 32 of Set 5 | georgetown\n",
      "Processing Record 33 of Set 5 | ilulissat\n",
      "Processing Record 34 of Set 5 | wahran\n",
      "City not found. Skipping...\n",
      "Processing Record 35 of Set 5 | bathurst\n",
      "Processing Record 36 of Set 5 | plattsburgh\n",
      "Processing Record 37 of Set 5 | gorontalo\n",
      "Processing Record 38 of Set 5 | vostok\n",
      "Processing Record 39 of Set 5 | roshchino\n",
      "Processing Record 40 of Set 5 | mayumba\n",
      "Processing Record 41 of Set 5 | puerto del rosario\n",
      "Processing Record 42 of Set 5 | esil\n",
      "Processing Record 43 of Set 5 | plouzane\n",
      "Processing Record 44 of Set 5 | lisakovsk\n",
      "Processing Record 45 of Set 5 | ati\n",
      "Processing Record 46 of Set 5 | makakilo city\n",
      "Processing Record 47 of Set 5 | miranda\n",
      "Processing Record 48 of Set 5 | beringovskiy\n",
      "Processing Record 49 of Set 5 | huitzuco\n",
      "City not found. Skipping...\n",
      "Processing Record 0 of Set 6 | pontian kecil\n",
      "Processing Record 1 of Set 6 | samusu\n",
      "City not found. Skipping...\n",
      "Processing Record 2 of Set 6 | tuatapere\n",
      "Processing Record 3 of Set 6 | milan\n",
      "Processing Record 4 of Set 6 | vaitupu\n",
      "City not found. Skipping...\n",
      "Processing Record 5 of Set 6 | sechura\n",
      "Processing Record 6 of Set 6 | fairbanks\n",
      "Processing Record 7 of Set 6 | felidhoo\n",
      "City not found. Skipping...\n",
      "Processing Record 8 of Set 6 | kendari\n",
      "Processing Record 9 of Set 6 | rizhao\n",
      "Processing Record 10 of Set 6 | nizhnyaya tavda\n",
      "Processing Record 11 of Set 6 | bay roberts\n",
      "Processing Record 12 of Set 6 | severo-kurilsk\n",
      "Processing Record 13 of Set 6 | nan\n",
      "Processing Record 14 of Set 6 | turbat\n",
      "Processing Record 15 of Set 6 | uvarovka\n",
      "Processing Record 16 of Set 6 | este\n",
      "Processing Record 17 of Set 6 | kudahuvadhoo\n",
      "Processing Record 18 of Set 6 | ratnagiri\n",
      "Processing Record 19 of Set 6 | metu\n",
      "Processing Record 20 of Set 6 | port pirie\n",
      "Processing Record 21 of Set 6 | turukhansk\n",
      "Processing Record 22 of Set 6 | bilibino\n",
      "Processing Record 23 of Set 6 | tabas\n",
      "Processing Record 24 of Set 6 | dutse\n",
      "Processing Record 25 of Set 6 | maniitsoq\n",
      "Processing Record 26 of Set 6 | cidreira\n",
      "Processing Record 27 of Set 6 | tabou\n",
      "Processing Record 28 of Set 6 | hinesville\n",
      "Processing Record 29 of Set 6 | abapo\n",
      "Processing Record 30 of Set 6 | san cristobal\n",
      "Processing Record 31 of Set 6 | nguru\n",
      "Processing Record 32 of Set 6 | cayenne\n",
      "Processing Record 33 of Set 6 | ponnampet\n",
      "Processing Record 34 of Set 6 | tokur\n",
      "Processing Record 35 of Set 6 | necochea\n",
      "Processing Record 36 of Set 6 | plettenberg bay\n",
      "Processing Record 37 of Set 6 | belaya gora\n",
      "Processing Record 38 of Set 6 | peleduy\n",
      "Processing Record 39 of Set 6 | kieta\n",
      "Processing Record 40 of Set 6 | plainview\n",
      "Processing Record 41 of Set 6 | jalu\n",
      "Processing Record 42 of Set 6 | san felipe\n",
      "Processing Record 43 of Set 6 | mahbubabad\n",
      "Processing Record 44 of Set 6 | zhovkva\n",
      "Processing Record 45 of Set 6 | nanortalik\n",
      "Processing Record 46 of Set 6 | ketchikan\n",
      "Processing Record 47 of Set 6 | bluefields\n",
      "Processing Record 48 of Set 6 | dukat\n",
      "Processing Record 49 of Set 6 | wagar\n",
      "Processing Record 0 of Set 7 | znamenskoye\n",
      "Processing Record 1 of Set 7 | karaul\n",
      "City not found. Skipping...\n",
      "Processing Record 2 of Set 7 | khorramshahr\n",
      "Processing Record 3 of Set 7 | goundi\n",
      "Processing Record 4 of Set 7 | bethel\n",
      "Processing Record 5 of Set 7 | gat\n",
      "Processing Record 6 of Set 7 | tiarei\n",
      "Processing Record 7 of Set 7 | saraland\n",
      "Processing Record 8 of Set 7 | marsa matruh\n",
      "Processing Record 9 of Set 7 | hasaki\n",
      "Processing Record 10 of Set 7 | saleaula\n",
      "City not found. Skipping...\n",
      "Processing Record 11 of Set 7 | umzimvubu\n",
      "City not found. Skipping...\n",
      "Processing Record 12 of Set 7 | aksu\n",
      "Processing Record 13 of Set 7 | hamada\n",
      "Processing Record 14 of Set 7 | avera\n",
      "Processing Record 15 of Set 7 | cabo san lucas\n",
      "Processing Record 16 of Set 7 | bani\n",
      "Processing Record 17 of Set 7 | awbari\n",
      "Processing Record 18 of Set 7 | veraval\n",
      "Processing Record 19 of Set 7 | nakamura\n",
      "Processing Record 20 of Set 7 | nome\n",
      "Processing Record 21 of Set 7 | natitingou\n",
      "Processing Record 22 of Set 7 | sayyan\n",
      "Processing Record 23 of Set 7 | takaka\n",
      "Processing Record 24 of Set 7 | pringsewu\n",
      "Processing Record 25 of Set 7 | sinnamary\n",
      "Processing Record 26 of Set 7 | sooke\n",
      "Processing Record 27 of Set 7 | breznice\n",
      "Processing Record 28 of Set 7 | kununurra\n",
      "Processing Record 29 of Set 7 | vilcun\n",
      "Processing Record 30 of Set 7 | aojiang\n",
      "Processing Record 31 of Set 7 | bansko\n",
      "Processing Record 32 of Set 7 | eureka\n",
      "Processing Record 33 of Set 7 | ust-nera\n",
      "Processing Record 34 of Set 7 | kingisepp\n",
      "Processing Record 35 of Set 7 | okhotsk\n",
      "Processing Record 36 of Set 7 | shushtar\n",
      "Processing Record 37 of Set 7 | constitucion\n",
      "Processing Record 38 of Set 7 | zhezkazgan\n",
      "Processing Record 39 of Set 7 | morant bay\n",
      "Processing Record 40 of Set 7 | mayskiy\n",
      "Processing Record 41 of Set 7 | codrington\n",
      "Processing Record 42 of Set 7 | bathsheba\n",
      "Processing Record 43 of Set 7 | kamenskoye\n",
      "City not found. Skipping...\n",
      "Processing Record 44 of Set 7 | hellvik\n",
      "Processing Record 45 of Set 7 | aswan\n",
      "Processing Record 46 of Set 7 | asau\n",
      "Processing Record 47 of Set 7 | dubai\n",
      "Processing Record 48 of Set 7 | tecpan\n",
      "Processing Record 49 of Set 7 | sorvag\n",
      "City not found. Skipping...\n",
      "Processing Record 0 of Set 8 | port blair\n",
      "Processing Record 1 of Set 8 | aitape\n",
      "Processing Record 2 of Set 8 | ostrovnoy\n",
      "Processing Record 3 of Set 8 | banmo\n",
      "City not found. Skipping...\n",
      "Processing Record 4 of Set 8 | carnduff\n",
      "Processing Record 5 of Set 8 | yuanping\n",
      "Processing Record 6 of Set 8 | pevek\n",
      "Processing Record 7 of Set 8 | aban\n",
      "Processing Record 8 of Set 8 | attawapiskat\n",
      "City not found. Skipping...\n",
      "Processing Record 9 of Set 8 | saint george\n",
      "Processing Record 10 of Set 8 | gornyye klyuchi\n",
      "Processing Record 11 of Set 8 | gevrai\n",
      "Processing Record 12 of Set 8 | provideniya\n",
      "Processing Record 13 of Set 8 | vila velha\n",
      "Processing Record 14 of Set 8 | prokopyevsk\n",
      "Processing Record 15 of Set 8 | husavik\n",
      "Processing Record 16 of Set 8 | talladega\n",
      "Processing Record 17 of Set 8 | benghazi\n",
      "Processing Record 18 of Set 8 | redditch\n",
      "Processing Record 19 of Set 8 | ulaangom\n",
      "Processing Record 20 of Set 8 | carutapera\n",
      "Processing Record 21 of Set 8 | nogales\n",
      "Processing Record 22 of Set 8 | tagbac\n",
      "Processing Record 23 of Set 8 | namibe\n",
      "Processing Record 24 of Set 8 | bartica\n",
      "Processing Record 25 of Set 8 | svetlyy\n",
      "Processing Record 26 of Set 8 | mabaruma\n",
      "Processing Record 27 of Set 8 | port moresby\n",
      "Processing Record 28 of Set 8 | afmadu\n",
      "City not found. Skipping...\n",
      "Processing Record 29 of Set 8 | acapulco\n",
      "Processing Record 30 of Set 8 | birjand\n",
      "Processing Record 31 of Set 8 | nurota\n",
      "Processing Record 32 of Set 8 | san ramon\n",
      "Processing Record 33 of Set 8 | petropavlovsk-kamchatskiy\n",
      "Processing Record 34 of Set 8 | moussoro\n",
      "Processing Record 35 of Set 8 | karratha\n",
      "Processing Record 36 of Set 8 | usvyaty\n",
      "Processing Record 37 of Set 8 | muros\n",
      "Processing Record 38 of Set 8 | bitung\n",
      "Processing Record 39 of Set 8 | tooele\n",
      "Processing Record 40 of Set 8 | iqaluit\n",
      "Processing Record 41 of Set 8 | dunedin\n",
      "Processing Record 42 of Set 8 | valuyki\n",
      "Processing Record 43 of Set 8 | launceston\n",
      "Processing Record 44 of Set 8 | kuusamo\n",
      "Processing Record 45 of Set 8 | sembakung\n",
      "Processing Record 46 of Set 8 | dongsheng\n",
      "Processing Record 47 of Set 8 | bambanglipuro\n",
      "Processing Record 48 of Set 8 | chiang klang\n",
      "Processing Record 49 of Set 8 | samana\n",
      "Processing Record 0 of Set 9 | sibolga\n",
      "Processing Record 1 of Set 9 | shenkursk\n",
      "Processing Record 2 of Set 9 | touros\n",
      "Processing Record 3 of Set 9 | polson\n",
      "Processing Record 4 of Set 9 | oranjemund\n",
      "Processing Record 5 of Set 9 | xiongyue\n",
      "Processing Record 6 of Set 9 | palana\n",
      "Processing Record 7 of Set 9 | vao\n",
      "Processing Record 8 of Set 9 | uige\n",
      "Processing Record 9 of Set 9 | cedral\n",
      "Processing Record 10 of Set 9 | svetlaya\n",
      "Processing Record 11 of Set 9 | san patricio\n",
      "Processing Record 12 of Set 9 | paamiut\n",
      "Processing Record 13 of Set 9 | ugoofaaru\n",
      "Processing Record 14 of Set 9 | hihifo\n",
      "City not found. Skipping...\n",
      "Processing Record 15 of Set 9 | auki\n",
      "Processing Record 16 of Set 9 | aranos\n",
      "Processing Record 17 of Set 9 | roma\n",
      "Processing Record 18 of Set 9 | galesong\n",
      "Processing Record 19 of Set 9 | ler\n",
      "Processing Record 20 of Set 9 | pitanga\n",
      "Processing Record 21 of Set 9 | benoy\n",
      "Processing Record 22 of Set 9 | waitati\n",
      "Processing Record 23 of Set 9 | axim\n",
      "Processing Record 24 of Set 9 | saint anthony\n",
      "Processing Record 25 of Set 9 | quatre cocos\n",
      "Processing Record 26 of Set 9 | taldan\n",
      "Processing Record 27 of Set 9 | singkang\n",
      "Processing Record 28 of Set 9 | muli\n",
      "Processing Record 29 of Set 9 | bournemouth\n",
      "Processing Record 30 of Set 9 | bandarbeyla\n",
      "Processing Record 31 of Set 9 | murray bridge\n",
      "Processing Record 32 of Set 9 | humberto de campos\n",
      "Processing Record 33 of Set 9 | homer\n",
      "Processing Record 34 of Set 9 | port hawkesbury\n",
      "Processing Record 35 of Set 9 | gilgit\n",
      "Processing Record 36 of Set 9 | rudnogorsk\n",
      "Processing Record 37 of Set 9 | lerwick\n",
      "Processing Record 38 of Set 9 | sawakin\n",
      "Processing Record 39 of Set 9 | acari\n",
      "Processing Record 40 of Set 9 | marcona\n",
      "City not found. Skipping...\n",
      "Processing Record 41 of Set 9 | erdenet\n",
      "Processing Record 42 of Set 9 | alenquer\n",
      "Processing Record 43 of Set 9 | tevaitoa\n",
      "Processing Record 44 of Set 9 | muroto\n",
      "Processing Record 45 of Set 9 | thinadhoo\n",
      "Processing Record 46 of Set 9 | superior\n",
      "Processing Record 47 of Set 9 | telma\n",
      "Processing Record 48 of Set 9 | ancud\n",
      "Processing Record 49 of Set 9 | puerto lempira\n",
      "Processing Record 0 of Set 10 | chapais\n",
      "Processing Record 1 of Set 10 | asmara\n",
      "Processing Record 2 of Set 10 | mujiayingzi\n",
      "Processing Record 3 of Set 10 | isangel\n",
      "Processing Record 4 of Set 10 | solnechnyy\n",
      "Processing Record 5 of Set 10 | the valley\n",
      "Processing Record 6 of Set 10 | dalianwan\n",
      "Processing Record 7 of Set 10 | kazalinsk\n",
      "City not found. Skipping...\n",
      "Processing Record 8 of Set 10 | pasni\n",
      "Processing Record 9 of Set 10 | fereydunshahr\n",
      "Processing Record 10 of Set 10 | ponta delgada\n",
      "Processing Record 11 of Set 10 | sierpc\n",
      "Processing Record 12 of Set 10 | nelson bay\n",
      "Processing Record 13 of Set 10 | alice springs\n",
      "Processing Record 14 of Set 10 | narsaq\n",
      "Processing Record 15 of Set 10 | port-gentil\n",
      "Processing Record 16 of Set 10 | kodinsk\n",
      "Processing Record 17 of Set 10 | rocha\n",
      "Processing Record 18 of Set 10 | batemans bay\n",
      "Processing Record 19 of Set 10 | aktau\n",
      "Processing Record 20 of Set 10 | talcahuano\n",
      "Processing Record 21 of Set 10 | skalistyy\n",
      "City not found. Skipping...\n",
      "Processing Record 22 of Set 10 | barcelona\n",
      "Processing Record 23 of Set 10 | benjamin constant\n",
      "Processing Record 24 of Set 10 | katsuura\n",
      "Processing Record 25 of Set 10 | denpasar\n",
      "Processing Record 26 of Set 10 | lasa\n",
      "Processing Record 27 of Set 10 | ahipara\n",
      "Processing Record 28 of Set 10 | vinh\n",
      "Processing Record 29 of Set 10 | nouadhibou\n",
      "Processing Record 30 of Set 10 | ngukurr\n",
      "City not found. Skipping...\n",
      "Processing Record 31 of Set 10 | matara\n",
      "Processing Record 32 of Set 10 | marrakesh\n",
      "Processing Record 33 of Set 10 | taksimo\n",
      "Processing Record 34 of Set 10 | maxixe\n",
      "Processing Record 35 of Set 10 | lagunas\n",
      "Processing Record 36 of Set 10 | marihatag\n",
      "Processing Record 37 of Set 10 | champerico\n",
      "Processing Record 38 of Set 10 | quime\n",
      "Processing Record 39 of Set 10 | arlit\n",
      "Processing Record 40 of Set 10 | longlac\n",
      "City not found. Skipping...\n",
      "Processing Record 41 of Set 10 | rungata\n",
      "City not found. Skipping...\n",
      "Processing Record 42 of Set 10 | fort nelson\n",
      "Processing Record 43 of Set 10 | skagastrond\n",
      "City not found. Skipping...\n",
      "Processing Record 44 of Set 10 | sumenep\n",
      "Processing Record 45 of Set 10 | pacific grove\n",
      "Processing Record 46 of Set 10 | kargasok\n",
      "Processing Record 47 of Set 10 | artyom\n",
      "Processing Record 48 of Set 10 | rehoboth\n",
      "Processing Record 49 of Set 10 | khash\n",
      "Processing Record 0 of Set 11 | storm lake\n",
      "Processing Record 1 of Set 11 | pecos\n",
      "Processing Record 2 of Set 11 | nizwa\n",
      "Processing Record 3 of Set 11 | alora\n",
      "Processing Record 4 of Set 11 | drayton valley\n",
      "Processing Record 5 of Set 11 | palabuhanratu\n",
      "City not found. Skipping...\n",
      "Processing Record 6 of Set 11 | impfondo\n",
      "Processing Record 7 of Set 11 | paso de los toros\n",
      "Processing Record 8 of Set 11 | qujing\n",
      "Processing Record 9 of Set 11 | broome\n",
      "Processing Record 10 of Set 11 | beidao\n",
      "Processing Record 11 of Set 11 | virginia beach\n",
      "Processing Record 12 of Set 11 | coihaique\n",
      "Processing Record 13 of Set 11 | dinsor\n",
      "City not found. Skipping...\n",
      "Processing Record 14 of Set 11 | samba\n",
      "Processing Record 15 of Set 11 | vyartsilya\n",
      "Processing Record 16 of Set 11 | opuwo\n",
      "Processing Record 17 of Set 11 | lavrentiya\n",
      "Processing Record 18 of Set 11 | nantucket\n",
      "Processing Record 19 of Set 11 | meyungs\n",
      "City not found. Skipping...\n",
      "Processing Record 20 of Set 11 | sorland\n",
      "Processing Record 21 of Set 11 | sao paulo de olivenca\n",
      "Processing Record 22 of Set 11 | cascais\n",
      "Processing Record 23 of Set 11 | changji\n",
      "Processing Record 24 of Set 11 | kapchorwa\n",
      "Processing Record 25 of Set 11 | pangnirtung\n",
      "Processing Record 26 of Set 11 | derzhavinsk\n",
      "Processing Record 27 of Set 11 | broken hill\n",
      "Processing Record 28 of Set 11 | ca mau\n",
      "Processing Record 29 of Set 11 | shimanovsk\n",
      "Processing Record 30 of Set 11 | hobyo\n",
      "Processing Record 31 of Set 11 | malakal\n",
      "Processing Record 32 of Set 11 | great bend\n",
      "Processing Record 33 of Set 11 | morro bay\n",
      "Processing Record 34 of Set 11 | guayaramerin\n",
      "Processing Record 35 of Set 11 | palmer\n",
      "Processing Record 36 of Set 11 | bosobolo\n",
      "Processing Record 37 of Set 11 | buraydah\n",
      "Processing Record 38 of Set 11 | kaoma\n",
      "Processing Record 39 of Set 11 | talnakh\n",
      "Processing Record 40 of Set 11 | sola\n",
      "Processing Record 41 of Set 11 | lakes entrance\n",
      "Processing Record 42 of Set 11 | moa\n",
      "Processing Record 43 of Set 11 | dzilam gonzalez\n",
      "Processing Record 44 of Set 11 | tumannyy\n",
      "City not found. Skipping...\n",
      "Processing Record 45 of Set 11 | port hardy\n",
      "Processing Record 46 of Set 11 | hami\n",
      "Processing Record 47 of Set 11 | zachagansk\n",
      "City not found. Skipping...\n",
      "Processing Record 48 of Set 11 | mumford\n",
      "Processing Record 49 of Set 11 | jumla\n",
      "Processing Record 0 of Set 12 | nainpur\n",
      "Processing Record 1 of Set 12 | las vegas\n",
      "Processing Record 2 of Set 12 | birao\n",
      "Processing Record 3 of Set 12 | bontang\n",
      "Processing Record 4 of Set 12 | mayma\n",
      "Processing Record 5 of Set 12 | banda aceh\n",
      "Processing Record 6 of Set 12 | ahuimanu\n",
      "Processing Record 7 of Set 12 | praia da vitoria\n",
      "Processing Record 8 of Set 12 | olinda\n",
      "Processing Record 9 of Set 12 | namikupa\n",
      "Processing Record 10 of Set 12 | kavieng\n",
      "Processing Record 11 of Set 12 | jacareacanga\n",
      "Processing Record 12 of Set 12 | road town\n",
      "Processing Record 13 of Set 12 | tautira\n",
      "Processing Record 14 of Set 12 | stuttgart\n",
      "Processing Record 15 of Set 12 | karakose\n",
      "City not found. Skipping...\n",
      "Processing Record 16 of Set 12 | raha\n",
      "Processing Record 17 of Set 12 | linchuan\n",
      "City not found. Skipping...\n",
      "Processing Record 18 of Set 12 | candido mota\n",
      "Processing Record 19 of Set 12 | formoso do araguaia\n",
      "City not found. Skipping...\n",
      "Processing Record 20 of Set 12 | ambilobe\n",
      "Processing Record 21 of Set 12 | podgorica\n",
      "Processing Record 22 of Set 12 | tongchuan\n",
      "Processing Record 23 of Set 12 | kampot\n",
      "Processing Record 24 of Set 12 | raton\n",
      "Processing Record 25 of Set 12 | zalesovo\n",
      "Processing Record 26 of Set 12 | mergui\n",
      "City not found. Skipping...\n",
      "Processing Record 27 of Set 12 | san juan\n",
      "Processing Record 28 of Set 12 | tharad\n",
      "Processing Record 29 of Set 12 | uglich\n",
      "Processing Record 30 of Set 12 | selfoss\n",
      "Processing Record 31 of Set 12 | varnamo\n",
      "Processing Record 32 of Set 12 | verkhnyaya inta\n",
      "Processing Record 33 of Set 12 | tocopilla\n",
      "Processing Record 34 of Set 12 | itoman\n",
      "Processing Record 35 of Set 12 | pueblo\n",
      "Processing Record 36 of Set 12 | klaksvik\n",
      "Processing Record 37 of Set 12 | nowy dwor gdanski\n",
      "Processing Record 38 of Set 12 | saint-georges\n",
      "Processing Record 39 of Set 12 | sierra vista\n",
      "Processing Record 40 of Set 12 | pisco\n",
      "Processing Record 41 of Set 12 | villa carlos paz\n",
      "Processing Record 42 of Set 12 | yar-sale\n",
      "Processing Record 43 of Set 12 | nunoa\n",
      "Processing Record 44 of Set 12 | iwaki\n",
      "-----------------------------\n",
      "Data Retrieval Complete      \n",
      "-----------------------------\n"
     ]
    }
   ],
   "source": [
    "# Set the API base URL\n",
    "url = \"http://api.openweathermap.org/data/2.5/weather?units=Metric&APPID=\" + weather_api_key\n",
    "\n",
    "# Define an empty list to fetch the weather data for each city\n",
    "city_data = []\n",
    "\n",
    "# Print to logger\n",
    "print(\"Beginning Data Retrieval     \")\n",
    "print(\"-----------------------------\")\n",
    "\n",
    "# Create counters\n",
    "record_count = 1\n",
    "set_count = 1\n",
    "\n",
    "# Loop through all the cities in our list to fetch weather data\n",
    "for i, city in enumerate(cities):\n",
    "        \n",
    "    # Group cities in sets of 50 for logging purposes\n",
    "    if (i % 50 == 0 and i >= 50):\n",
    "        set_count += 1\n",
    "        record_count = 0\n",
    "\n",
    "    # Create endpoint URL with each city\n",
    "    city_url = url + \"&q=\" + city\n",
    "    \n",
    "    # Log the url, record, and set numbers\n",
    "    print(\"Processing Record %s of Set %s | %s\" % (record_count, set_count, city))\n",
    "\n",
    "    # Add 1 to the record count\n",
    "    record_count += 1\n",
    "\n",
    "    # Run an API request for each of the cities\n",
    "    try:\n",
    "        # Parse the JSON and retrieve data\n",
    "        city_weather = requests.get(city_url).json()\n",
    "\n",
    "        # Parse out latitude, longitude, max temp, humidity, cloudiness, wind speed, country, and date  \n",
    "        city_lat = city_weather[\"coord\"][\"lat\"]\n",
    "        city_lng = city_weather[\"coord\"][\"lon\"]\n",
    "        city_max_temp = city_weather['main']['temp_max']\n",
    "        city_humidity = city_weather['main']['humidity']\n",
    "        city_clouds = city_weather['clouds']['all']\n",
    "        city_wind = city_weather['wind']['speed']\n",
    "        city_country = city_weather['sys']['country']\n",
    "        city_date = city_weather['dt']\n",
    "\n",
    "\n",
    "        # Append the City information into city_data list\n",
    "        city_data.append({\"City\": city, \n",
    "                          \"Lat\": city_lat, \n",
    "                          \"Lng\": city_lng, \n",
    "                          \"Max Temp\": city_max_temp,\n",
    "                          \"Humidity\": city_humidity,\n",
    "                          \"Cloudiness\": city_clouds,\n",
    "                          \"Wind Speed\": city_wind,\n",
    "                          \"Country\": city_country,\n",
    "                          \"Date\": city_date})\n",
    "\n",
    "    # If an error is experienced, skip the city\n",
    "    except:\n",
    "        print(\"City not found. Skipping...\")\n",
    "        pass\n",
    "              \n",
    "# Indicate that Data Loading is complete \n",
    "print(\"-----------------------------\")\n",
    "print(\"Data Retrieval Complete      \")\n",
    "print(\"-----------------------------\")"
   ]
  },
  {
   "cell_type": "code",
   "execution_count": 4,
   "metadata": {},
   "outputs": [
    {
     "data": {
      "text/plain": [
       "City          544\n",
       "Lat           544\n",
       "Lng           544\n",
       "Max Temp      544\n",
       "Humidity      544\n",
       "Cloudiness    544\n",
       "Wind Speed    544\n",
       "Country       544\n",
       "Date          544\n",
       "dtype: int64"
      ]
     },
     "execution_count": 4,
     "metadata": {},
     "output_type": "execute_result"
    }
   ],
   "source": [
    "# Convert the cities weather data into a Pandas DataFrame\n",
    "city_data_df = pd.DataFrame(city_data)\n",
    "\n",
    "# Show Record Count\n",
    "city_data_df.count()"
   ]
  },
  {
   "cell_type": "code",
   "execution_count": 5,
   "metadata": {},
   "outputs": [
    {
     "data": {
      "text/html": [
       "<div>\n",
       "<style scoped>\n",
       "    .dataframe tbody tr th:only-of-type {\n",
       "        vertical-align: middle;\n",
       "    }\n",
       "\n",
       "    .dataframe tbody tr th {\n",
       "        vertical-align: top;\n",
       "    }\n",
       "\n",
       "    .dataframe thead th {\n",
       "        text-align: right;\n",
       "    }\n",
       "</style>\n",
       "<table border=\"1\" class=\"dataframe\">\n",
       "  <thead>\n",
       "    <tr style=\"text-align: right;\">\n",
       "      <th></th>\n",
       "      <th>City</th>\n",
       "      <th>Lat</th>\n",
       "      <th>Lng</th>\n",
       "      <th>Max Temp</th>\n",
       "      <th>Humidity</th>\n",
       "      <th>Cloudiness</th>\n",
       "      <th>Wind Speed</th>\n",
       "      <th>Country</th>\n",
       "      <th>Date</th>\n",
       "    </tr>\n",
       "  </thead>\n",
       "  <tbody>\n",
       "    <tr>\n",
       "      <th>0</th>\n",
       "      <td>hay river</td>\n",
       "      <td>60.8156</td>\n",
       "      <td>-115.7999</td>\n",
       "      <td>5.74</td>\n",
       "      <td>64</td>\n",
       "      <td>56</td>\n",
       "      <td>4.98</td>\n",
       "      <td>CA</td>\n",
       "      <td>1682295224</td>\n",
       "    </tr>\n",
       "    <tr>\n",
       "      <th>1</th>\n",
       "      <td>saskylakh</td>\n",
       "      <td>71.9167</td>\n",
       "      <td>114.0833</td>\n",
       "      <td>-13.37</td>\n",
       "      <td>98</td>\n",
       "      <td>97</td>\n",
       "      <td>2.25</td>\n",
       "      <td>RU</td>\n",
       "      <td>1682295225</td>\n",
       "    </tr>\n",
       "    <tr>\n",
       "      <th>2</th>\n",
       "      <td>busselton</td>\n",
       "      <td>-33.6500</td>\n",
       "      <td>115.3333</td>\n",
       "      <td>15.13</td>\n",
       "      <td>65</td>\n",
       "      <td>95</td>\n",
       "      <td>10.72</td>\n",
       "      <td>AU</td>\n",
       "      <td>1682295225</td>\n",
       "    </tr>\n",
       "    <tr>\n",
       "      <th>3</th>\n",
       "      <td>port alfred</td>\n",
       "      <td>-33.5906</td>\n",
       "      <td>26.8910</td>\n",
       "      <td>19.82</td>\n",
       "      <td>64</td>\n",
       "      <td>97</td>\n",
       "      <td>1.36</td>\n",
       "      <td>ZA</td>\n",
       "      <td>1682295225</td>\n",
       "    </tr>\n",
       "    <tr>\n",
       "      <th>4</th>\n",
       "      <td>east london</td>\n",
       "      <td>-33.0153</td>\n",
       "      <td>27.9116</td>\n",
       "      <td>20.15</td>\n",
       "      <td>59</td>\n",
       "      <td>100</td>\n",
       "      <td>2.40</td>\n",
       "      <td>ZA</td>\n",
       "      <td>1682295176</td>\n",
       "    </tr>\n",
       "  </tbody>\n",
       "</table>\n",
       "</div>"
      ],
      "text/plain": [
       "          City      Lat       Lng  Max Temp  Humidity  Cloudiness  Wind Speed  \\\n",
       "0    hay river  60.8156 -115.7999      5.74        64          56        4.98   \n",
       "1    saskylakh  71.9167  114.0833    -13.37        98          97        2.25   \n",
       "2    busselton -33.6500  115.3333     15.13        65          95       10.72   \n",
       "3  port alfred -33.5906   26.8910     19.82        64          97        1.36   \n",
       "4  east london -33.0153   27.9116     20.15        59         100        2.40   \n",
       "\n",
       "  Country        Date  \n",
       "0      CA  1682295224  \n",
       "1      RU  1682295225  \n",
       "2      AU  1682295225  \n",
       "3      ZA  1682295225  \n",
       "4      ZA  1682295176  "
      ]
     },
     "execution_count": 5,
     "metadata": {},
     "output_type": "execute_result"
    }
   ],
   "source": [
    "# Display sample data\n",
    "city_data_df.head()"
   ]
  },
  {
   "cell_type": "code",
   "execution_count": 6,
   "metadata": {},
   "outputs": [],
   "source": [
    "# Export the City_Data into a csv\n",
    "city_data_df.to_csv(\"../output_data/cities.csv\", index_label=\"City_ID\")"
   ]
  },
  {
   "cell_type": "code",
   "execution_count": 8,
   "metadata": {},
   "outputs": [
    {
     "data": {
      "text/html": [
       "<div>\n",
       "<style scoped>\n",
       "    .dataframe tbody tr th:only-of-type {\n",
       "        vertical-align: middle;\n",
       "    }\n",
       "\n",
       "    .dataframe tbody tr th {\n",
       "        vertical-align: top;\n",
       "    }\n",
       "\n",
       "    .dataframe thead th {\n",
       "        text-align: right;\n",
       "    }\n",
       "</style>\n",
       "<table border=\"1\" class=\"dataframe\">\n",
       "  <thead>\n",
       "    <tr style=\"text-align: right;\">\n",
       "      <th></th>\n",
       "      <th>City</th>\n",
       "      <th>Lat</th>\n",
       "      <th>Lng</th>\n",
       "      <th>Max Temp</th>\n",
       "      <th>Humidity</th>\n",
       "      <th>Cloudiness</th>\n",
       "      <th>Wind Speed</th>\n",
       "      <th>Country</th>\n",
       "      <th>Date</th>\n",
       "    </tr>\n",
       "    <tr>\n",
       "      <th>City_ID</th>\n",
       "      <th></th>\n",
       "      <th></th>\n",
       "      <th></th>\n",
       "      <th></th>\n",
       "      <th></th>\n",
       "      <th></th>\n",
       "      <th></th>\n",
       "      <th></th>\n",
       "      <th></th>\n",
       "    </tr>\n",
       "  </thead>\n",
       "  <tbody>\n",
       "    <tr>\n",
       "      <th>0</th>\n",
       "      <td>hay river</td>\n",
       "      <td>60.8156</td>\n",
       "      <td>-115.7999</td>\n",
       "      <td>5.74</td>\n",
       "      <td>64</td>\n",
       "      <td>56</td>\n",
       "      <td>4.98</td>\n",
       "      <td>CA</td>\n",
       "      <td>1682295224</td>\n",
       "    </tr>\n",
       "    <tr>\n",
       "      <th>1</th>\n",
       "      <td>saskylakh</td>\n",
       "      <td>71.9167</td>\n",
       "      <td>114.0833</td>\n",
       "      <td>-13.37</td>\n",
       "      <td>98</td>\n",
       "      <td>97</td>\n",
       "      <td>2.25</td>\n",
       "      <td>RU</td>\n",
       "      <td>1682295225</td>\n",
       "    </tr>\n",
       "    <tr>\n",
       "      <th>2</th>\n",
       "      <td>busselton</td>\n",
       "      <td>-33.6500</td>\n",
       "      <td>115.3333</td>\n",
       "      <td>15.13</td>\n",
       "      <td>65</td>\n",
       "      <td>95</td>\n",
       "      <td>10.72</td>\n",
       "      <td>AU</td>\n",
       "      <td>1682295225</td>\n",
       "    </tr>\n",
       "    <tr>\n",
       "      <th>3</th>\n",
       "      <td>port alfred</td>\n",
       "      <td>-33.5906</td>\n",
       "      <td>26.8910</td>\n",
       "      <td>19.82</td>\n",
       "      <td>64</td>\n",
       "      <td>97</td>\n",
       "      <td>1.36</td>\n",
       "      <td>ZA</td>\n",
       "      <td>1682295225</td>\n",
       "    </tr>\n",
       "    <tr>\n",
       "      <th>4</th>\n",
       "      <td>east london</td>\n",
       "      <td>-33.0153</td>\n",
       "      <td>27.9116</td>\n",
       "      <td>20.15</td>\n",
       "      <td>59</td>\n",
       "      <td>100</td>\n",
       "      <td>2.40</td>\n",
       "      <td>ZA</td>\n",
       "      <td>1682295176</td>\n",
       "    </tr>\n",
       "  </tbody>\n",
       "</table>\n",
       "</div>"
      ],
      "text/plain": [
       "                City      Lat       Lng  Max Temp  Humidity  Cloudiness  \\\n",
       "City_ID                                                                   \n",
       "0          hay river  60.8156 -115.7999      5.74        64          56   \n",
       "1          saskylakh  71.9167  114.0833    -13.37        98          97   \n",
       "2          busselton -33.6500  115.3333     15.13        65          95   \n",
       "3        port alfred -33.5906   26.8910     19.82        64          97   \n",
       "4        east london -33.0153   27.9116     20.15        59         100   \n",
       "\n",
       "         Wind Speed Country        Date  \n",
       "City_ID                                  \n",
       "0              4.98      CA  1682295224  \n",
       "1              2.25      RU  1682295225  \n",
       "2             10.72      AU  1682295225  \n",
       "3              1.36      ZA  1682295225  \n",
       "4              2.40      ZA  1682295176  "
      ]
     },
     "execution_count": 8,
     "metadata": {},
     "output_type": "execute_result"
    }
   ],
   "source": [
    "# Read saved data\n",
    "city_data_df = pd.read_csv(\"../output_data/cities.csv\", index_col=\"City_ID\")\n",
    "\n",
    "# Display sample data\n",
    "city_data_df.head()"
   ]
  },
  {
   "cell_type": "markdown",
   "metadata": {},
   "source": [
    "### Create the Scatter Plots Requested\n",
    "\n",
    "#### Latitude Vs. Temperature"
   ]
  },
  {
   "cell_type": "code",
   "execution_count": 9,
   "metadata": {
    "tags": []
   },
   "outputs": [
    {
     "data": {
      "image/png": "[encoded data removed]",
      "text/plain": [
       "<Figure size 432x288 with 1 Axes>"
      ]
     },
     "metadata": {
      "needs_background": "light"
     },
     "output_type": "display_data"
    },
    {
     "data": {
      "text/plain": [
       "<Figure size 720x576 with 0 Axes>"
      ]
     },
     "metadata": {},
     "output_type": "display_data"
    }
   ],
   "source": [
    "# Build scatter plot for latitude vs. temperature\n",
    "lat_temp = city_data_df\n",
    "lat = city_data_df[\"Lat\"]\n",
    "temp = city_data_df[\"Max Temp\"]\n",
    "\n",
    "# Incorporate the other graph properties\n",
    "plt.scatter(lat, temp, s=50, edgecolors=\"black\")\n",
    "plt.grid(True)\n",
    "plt.title(\"City Max Latitude vs. Temperature\")\n",
    "plt.xlabel(\"Latitude\")\n",
    "plt.ylabel(\"Max Temperature (C)\")\n",
    "plt.figure(figsize=(10, 8))\n",
    "\n",
    "# Save the figure\n",
    "plt.savefig(\"../output_data/Fig1.png\")\n",
    "\n",
    "# Show plot\n",
    "plt.show()"
   ]
  },
  {
   "cell_type": "markdown",
   "metadata": {},
   "source": [
    "#### Latitude Vs. Humidity"
   ]
  },
  {
   "cell_type": "code",
   "execution_count": 10,
   "metadata": {},
   "outputs": [
    {
     "data": {
      "image/png": "[encoded data removed]",
      "text/plain": [
       "<Figure size 432x288 with 1 Axes>"
      ]
     },
     "metadata": {
      "needs_background": "light"
     },
     "output_type": "display_data"
    },
    {
     "data": {
      "text/plain": [
       "<Figure size 720x576 with 0 Axes>"
      ]
     },
     "metadata": {},
     "output_type": "display_data"
    }
   ],
   "source": [
    "# Build the scatter plots for latitude vs. humidity\n",
    "humidity = city_data_df[\"Max Temp\"]\n",
    "\n",
    "# Incorporate the other graph properties\n",
    "plt.scatter(lat, humidity, s=50, edgecolors=\"black\")\n",
    "plt.grid(True)\n",
    "plt.title(\"City Max Latitude vs. Humidity\")\n",
    "plt.xlabel(\"Latitude\")\n",
    "plt.ylabel(\"Humidity (%)\")\n",
    "plt.figure(figsize=(10, 8))\n",
    "\n",
    "# Save the figure\n",
    "plt.savefig(\"../output_data/Fig2.png\")\n",
    "\n",
    "# Show plot\n",
    "plt.show()"
   ]
  },
  {
   "cell_type": "markdown",
   "metadata": {},
   "source": [
    "#### Latitude Vs. Cloudiness"
   ]
  },
  {
   "cell_type": "code",
   "execution_count": 11,
   "metadata": {},
   "outputs": [
    {
     "data": {
      "image/png": "[encoded data removed]",
      "text/plain": [
       "<Figure size 432x288 with 1 Axes>"
      ]
     },
     "metadata": {
      "needs_background": "light"
     },
     "output_type": "display_data"
    },
    {
     "data": {
      "text/plain": [
       "<Figure size 720x576 with 0 Axes>"
      ]
     },
     "metadata": {},
     "output_type": "display_data"
    }
   ],
   "source": [
    "# Build the scatter plots for latitude vs. cloudiness\n",
    "cloudiness = city_data_df[\"Cloudiness\"]\n",
    "\n",
    "# Incorporate the other graph properties\n",
    "plt.scatter(lat, cloudiness, s=50, edgecolors=\"black\")\n",
    "plt.grid(True)\n",
    "plt.title(\"City Max Latitude vs. Cloudiness\")\n",
    "plt.xlabel(\"Latitude\")\n",
    "plt.ylabel(\"Cloudiness (%)\")\n",
    "plt.figure(figsize=(10, 8))\n",
    "\n",
    "# Save the figure\n",
    "plt.savefig(\"../output_data/Fig3.png\")\n",
    "\n",
    "# Show plot\n",
    "plt.show()"
   ]
  },
  {
   "cell_type": "markdown",
   "metadata": {},
   "source": [
    "#### Latitude vs. Wind Speed Plot"
   ]
  },
  {
   "cell_type": "code",
   "execution_count": 12,
   "metadata": {},
   "outputs": [
    {
     "data": {
      "image/png": "[encoded data removed]",
      "text/plain": [
       "<Figure size 432x288 with 1 Axes>"
      ]
     },
     "metadata": {
      "needs_background": "light"
     },
     "output_type": "display_data"
    },
    {
     "data": {
      "text/plain": [
       "<Figure size 720x576 with 0 Axes>"
      ]
     },
     "metadata": {},
     "output_type": "display_data"
    }
   ],
   "source": [
    "# Build the scatter plots for latitude vs. wind speed\n",
    "wind_speed = city_data_df[\"Wind Speed\"]\n",
    "\n",
    "# Incorporate the other graph properties\n",
    "plt.scatter(lat, wind_speed, s=50, edgecolors=\"black\")\n",
    "plt.grid(True)\n",
    "plt.title(\"City Max Latitude vs. Wind Speed\")\n",
    "plt.xlabel(\"Latitude\")\n",
    "plt.ylabel(\"Wind Speed (m/s)\")\n",
    "plt.figure(figsize=(10, 8))\n",
    "\n",
    "# Save the figure\n",
    "plt.savefig(\"../output_data/Fig4.png\")\n",
    "\n",
    "# Show plot\n",
    "plt.show()"
   ]
  },
  {
   "cell_type": "markdown",
   "metadata": {},
   "source": [
    "---\n",
    "\n",
    "## Requirement 2: Compute Linear Regression for Each Relationship\n"
   ]
  },
  {
   "cell_type": "code",
   "execution_count": 13,
   "metadata": {},
   "outputs": [],
   "source": [
    "# Define a function to create Linear Regression plots\n",
    "from scipy import stats\n",
    "import scipy.stats as st"
   ]
  },
  {
   "cell_type": "code",
   "execution_count": 14,
   "metadata": {},
   "outputs": [
    {
     "data": {
      "text/html": [
       "<div>\n",
       "<style scoped>\n",
       "    .dataframe tbody tr th:only-of-type {\n",
       "        vertical-align: middle;\n",
       "    }\n",
       "\n",
       "    .dataframe tbody tr th {\n",
       "        vertical-align: top;\n",
       "    }\n",
       "\n",
       "    .dataframe thead th {\n",
       "        text-align: right;\n",
       "    }\n",
       "</style>\n",
       "<table border=\"1\" class=\"dataframe\">\n",
       "  <thead>\n",
       "    <tr style=\"text-align: right;\">\n",
       "      <th></th>\n",
       "      <th>City</th>\n",
       "      <th>Lat</th>\n",
       "      <th>Lng</th>\n",
       "      <th>Max Temp</th>\n",
       "      <th>Humidity</th>\n",
       "      <th>Cloudiness</th>\n",
       "      <th>Wind Speed</th>\n",
       "      <th>Country</th>\n",
       "      <th>Date</th>\n",
       "    </tr>\n",
       "    <tr>\n",
       "      <th>City_ID</th>\n",
       "      <th></th>\n",
       "      <th></th>\n",
       "      <th></th>\n",
       "      <th></th>\n",
       "      <th></th>\n",
       "      <th></th>\n",
       "      <th></th>\n",
       "      <th></th>\n",
       "      <th></th>\n",
       "    </tr>\n",
       "  </thead>\n",
       "  <tbody>\n",
       "    <tr>\n",
       "      <th>0</th>\n",
       "      <td>hay river</td>\n",
       "      <td>60.8156</td>\n",
       "      <td>-115.7999</td>\n",
       "      <td>5.74</td>\n",
       "      <td>64</td>\n",
       "      <td>56</td>\n",
       "      <td>4.98</td>\n",
       "      <td>CA</td>\n",
       "      <td>1682295224</td>\n",
       "    </tr>\n",
       "    <tr>\n",
       "      <th>1</th>\n",
       "      <td>saskylakh</td>\n",
       "      <td>71.9167</td>\n",
       "      <td>114.0833</td>\n",
       "      <td>-13.37</td>\n",
       "      <td>98</td>\n",
       "      <td>97</td>\n",
       "      <td>2.25</td>\n",
       "      <td>RU</td>\n",
       "      <td>1682295225</td>\n",
       "    </tr>\n",
       "    <tr>\n",
       "      <th>6</th>\n",
       "      <td>ribeira grande</td>\n",
       "      <td>38.5167</td>\n",
       "      <td>-28.7000</td>\n",
       "      <td>17.65</td>\n",
       "      <td>96</td>\n",
       "      <td>100</td>\n",
       "      <td>8.49</td>\n",
       "      <td>PT</td>\n",
       "      <td>1682295226</td>\n",
       "    </tr>\n",
       "    <tr>\n",
       "      <th>7</th>\n",
       "      <td>torbay</td>\n",
       "      <td>47.6666</td>\n",
       "      <td>-52.7314</td>\n",
       "      <td>2.99</td>\n",
       "      <td>95</td>\n",
       "      <td>100</td>\n",
       "      <td>11.18</td>\n",
       "      <td>CA</td>\n",
       "      <td>1682295226</td>\n",
       "    </tr>\n",
       "    <tr>\n",
       "      <th>8</th>\n",
       "      <td>lagoa</td>\n",
       "      <td>39.0500</td>\n",
       "      <td>-27.9833</td>\n",
       "      <td>15.95</td>\n",
       "      <td>95</td>\n",
       "      <td>100</td>\n",
       "      <td>7.31</td>\n",
       "      <td>PT</td>\n",
       "      <td>1682295226</td>\n",
       "    </tr>\n",
       "  </tbody>\n",
       "</table>\n",
       "</div>"
      ],
      "text/plain": [
       "                   City      Lat       Lng  Max Temp  Humidity  Cloudiness  \\\n",
       "City_ID                                                                      \n",
       "0             hay river  60.8156 -115.7999      5.74        64          56   \n",
       "1             saskylakh  71.9167  114.0833    -13.37        98          97   \n",
       "6        ribeira grande  38.5167  -28.7000     17.65        96         100   \n",
       "7                torbay  47.6666  -52.7314      2.99        95         100   \n",
       "8                 lagoa  39.0500  -27.9833     15.95        95         100   \n",
       "\n",
       "         Wind Speed Country        Date  \n",
       "City_ID                                  \n",
       "0              4.98      CA  1682295224  \n",
       "1              2.25      RU  1682295225  \n",
       "6              8.49      PT  1682295226  \n",
       "7             11.18      CA  1682295226  \n",
       "8              7.31      PT  1682295226  "
      ]
     },
     "execution_count": 14,
     "metadata": {},
     "output_type": "execute_result"
    }
   ],
   "source": [
    "# Create a DataFrame with the Northern Hemisphere data (Latitude >= 0)\n",
    "northern_hemi_df = city_data_df[city_data_df[\"Lat\"] >= 0]\n",
    "\n",
    "# Display sample data\n",
    "northern_hemi_df.head()"
   ]
  },
  {
   "cell_type": "code",
   "execution_count": 15,
   "metadata": {},
   "outputs": [
    {
     "data": {
      "text/html": [
       "<div>\n",
       "<style scoped>\n",
       "    .dataframe tbody tr th:only-of-type {\n",
       "        vertical-align: middle;\n",
       "    }\n",
       "\n",
       "    .dataframe tbody tr th {\n",
       "        vertical-align: top;\n",
       "    }\n",
       "\n",
       "    .dataframe thead th {\n",
       "        text-align: right;\n",
       "    }\n",
       "</style>\n",
       "<table border=\"1\" class=\"dataframe\">\n",
       "  <thead>\n",
       "    <tr style=\"text-align: right;\">\n",
       "      <th></th>\n",
       "      <th>City</th>\n",
       "      <th>Lat</th>\n",
       "      <th>Lng</th>\n",
       "      <th>Max Temp</th>\n",
       "      <th>Humidity</th>\n",
       "      <th>Cloudiness</th>\n",
       "      <th>Wind Speed</th>\n",
       "      <th>Country</th>\n",
       "      <th>Date</th>\n",
       "    </tr>\n",
       "    <tr>\n",
       "      <th>City_ID</th>\n",
       "      <th></th>\n",
       "      <th></th>\n",
       "      <th></th>\n",
       "      <th></th>\n",
       "      <th></th>\n",
       "      <th></th>\n",
       "      <th></th>\n",
       "      <th></th>\n",
       "      <th></th>\n",
       "    </tr>\n",
       "  </thead>\n",
       "  <tbody>\n",
       "    <tr>\n",
       "      <th>2</th>\n",
       "      <td>busselton</td>\n",
       "      <td>-33.6500</td>\n",
       "      <td>115.3333</td>\n",
       "      <td>15.13</td>\n",
       "      <td>65</td>\n",
       "      <td>95</td>\n",
       "      <td>10.72</td>\n",
       "      <td>AU</td>\n",
       "      <td>1682295225</td>\n",
       "    </tr>\n",
       "    <tr>\n",
       "      <th>3</th>\n",
       "      <td>port alfred</td>\n",
       "      <td>-33.5906</td>\n",
       "      <td>26.8910</td>\n",
       "      <td>19.82</td>\n",
       "      <td>64</td>\n",
       "      <td>97</td>\n",
       "      <td>1.36</td>\n",
       "      <td>ZA</td>\n",
       "      <td>1682295225</td>\n",
       "    </tr>\n",
       "    <tr>\n",
       "      <th>4</th>\n",
       "      <td>east london</td>\n",
       "      <td>-33.0153</td>\n",
       "      <td>27.9116</td>\n",
       "      <td>20.15</td>\n",
       "      <td>59</td>\n",
       "      <td>100</td>\n",
       "      <td>2.40</td>\n",
       "      <td>ZA</td>\n",
       "      <td>1682295176</td>\n",
       "    </tr>\n",
       "    <tr>\n",
       "      <th>5</th>\n",
       "      <td>byron bay</td>\n",
       "      <td>-28.6500</td>\n",
       "      <td>153.6167</td>\n",
       "      <td>22.06</td>\n",
       "      <td>63</td>\n",
       "      <td>100</td>\n",
       "      <td>4.34</td>\n",
       "      <td>AU</td>\n",
       "      <td>1682295226</td>\n",
       "    </tr>\n",
       "    <tr>\n",
       "      <th>12</th>\n",
       "      <td>maragogi</td>\n",
       "      <td>-9.0122</td>\n",
       "      <td>-35.2225</td>\n",
       "      <td>25.03</td>\n",
       "      <td>83</td>\n",
       "      <td>71</td>\n",
       "      <td>3.46</td>\n",
       "      <td>BR</td>\n",
       "      <td>1682295229</td>\n",
       "    </tr>\n",
       "  </tbody>\n",
       "</table>\n",
       "</div>"
      ],
      "text/plain": [
       "                City      Lat       Lng  Max Temp  Humidity  Cloudiness  \\\n",
       "City_ID                                                                   \n",
       "2          busselton -33.6500  115.3333     15.13        65          95   \n",
       "3        port alfred -33.5906   26.8910     19.82        64          97   \n",
       "4        east london -33.0153   27.9116     20.15        59         100   \n",
       "5          byron bay -28.6500  153.6167     22.06        63         100   \n",
       "12          maragogi  -9.0122  -35.2225     25.03        83          71   \n",
       "\n",
       "         Wind Speed Country        Date  \n",
       "City_ID                                  \n",
       "2             10.72      AU  1682295225  \n",
       "3              1.36      ZA  1682295225  \n",
       "4              2.40      ZA  1682295176  \n",
       "5              4.34      AU  1682295226  \n",
       "12             3.46      BR  1682295229  "
      ]
     },
     "execution_count": 15,
     "metadata": {},
     "output_type": "execute_result"
    }
   ],
   "source": [
    "# Create a DataFrame with the Southern Hemisphere data (Latitude < 0)\n",
    "southern_hemi_df = city_data_df[city_data_df[\"Lat\"] < 0]\n",
    "\n",
    "# Display sample data\n",
    "southern_hemi_df.head()"
   ]
  },
  {
   "cell_type": "markdown",
   "metadata": {},
   "source": [
    "###  Temperature vs. Latitude Linear Regression Plot"
   ]
  },
  {
   "cell_type": "code",
   "execution_count": 16,
   "metadata": {},
   "outputs": [
    {
     "name": "stdout",
     "output_type": "stream",
     "text": [
      "The r-value is: -0.89\n"
     ]
    },
    {
     "data": {
      "text/plain": [
       "<Figure size 720x576 with 0 Axes>"
      ]
     },
     "execution_count": 16,
     "metadata": {},
     "output_type": "execute_result"
    },
    {
     "data": {
      "image/png": "[encoded data removed]",
      "text/plain": [
       "<Figure size 432x288 with 1 Axes>"
      ]
     },
     "metadata": {
      "needs_background": "light"
     },
     "output_type": "display_data"
    },
    {
     "data": {
      "text/plain": [
       "<Figure size 720x576 with 0 Axes>"
      ]
     },
     "metadata": {},
     "output_type": "display_data"
    }
   ],
   "source": [
    "# Linear regression on Northern Hemisphere\n",
    "north_lat = northern_hemi_df[\"Lat\"]\n",
    "north_temp = northern_hemi_df[\"Max Temp\"]\n",
    "\n",
    "wp_slope, wp_int, wp_ir, wp_ip, wp_std_err = stats.linregress(north_lat, north_temp)\n",
    "north_fit = wp_slope * lat + wp_int\n",
    "formula = f\"y = {wp_slope: .2f}x + {wp_int: .2f}\"\n",
    "\n",
    "\n",
    "# The r-value\n",
    "correlation = st.pearsonr(north_lat,north_temp)\n",
    "print(f\"The r-value is: {round(correlation[0],2)}\")\n",
    "\n",
    "plt.scatter(north_lat, north_temp, s=50)\n",
    "plt.plot(lat,north_fit,\"-\", color=\"r\")\n",
    "plt.annotate(formula, xy = (0, -10), xycoords='data', color=\"red\")\n",
    "\n",
    "# Styling the visual\n",
    "plt.xlim(left=-5)\n",
    "plt.ylim(bottom=-20, top=45)\n",
    "plt.xlabel(\"Latitude\")\n",
    "plt.ylabel(\"Max Temp\")\n",
    "plt.figure(figsize=(10, 8))"
   ]
  },
  {
   "cell_type": "code",
   "execution_count": 17,
   "metadata": {},
   "outputs": [
    {
     "name": "stdout",
     "output_type": "stream",
     "text": [
      "The r-value is: 0.73\n"
     ]
    },
    {
     "data": {
      "text/plain": [
       "<Figure size 720x576 with 0 Axes>"
      ]
     },
     "execution_count": 17,
     "metadata": {},
     "output_type": "execute_result"
    },
    {
     "data": {
      "image/png": "[encoded data removed]",
      "text/plain": [
       "<Figure size 432x288 with 1 Axes>"
      ]
     },
     "metadata": {
      "needs_background": "light"
     },
     "output_type": "display_data"
    },
    {
     "data": {
      "text/plain": [
       "<Figure size 720x576 with 0 Axes>"
      ]
     },
     "metadata": {},
     "output_type": "display_data"
    }
   ],
   "source": [
    "# Linear regression on Southern Hemisphere\n",
    "south_lat = southern_hemi_df[\"Lat\"]\n",
    "south_temp = southern_hemi_df[\"Max Temp\"]\n",
    "\n",
    "wp_slope, wp_int, wp_ir, wp_ip, wp_std_err = stats.linregress(south_lat, south_temp)\n",
    "south_fit = wp_slope * lat + wp_int\n",
    "formula = f\"y = {wp_slope: .2f}x + {wp_int: .2f}\"\n",
    "\n",
    "# The r-value\n",
    "correlation = st.pearsonr(south_lat,south_temp)\n",
    "print(f\"The r-value is: {round(correlation[0],2)}\")\n",
    "\n",
    "# The linear regression formula\n",
    "plt.annotate(formula, xy = (-55, 30), xycoords='data', color=\"red\")\n",
    "\n",
    "# Scatter plot\n",
    "plt.scatter(south_lat, south_temp, s=50)\n",
    "plt.plot(lat,south_fit,\"-\", color=\"r\")\n",
    "\n",
    "\n",
    "plt.xlim(left=-60, right=5)\n",
    "plt.ylim(bottom=0, top=35)\n",
    "plt.xlabel(\"Latitude\")\n",
    "plt.ylabel(\"Max Temp\")\n",
    "plt.figure(figsize=(10, 8))"
   ]
  },
  {
   "attachments": {},
   "cell_type": "markdown",
   "metadata": {},
   "source": [
    "**Discussion about the linear relationship:** As the latitude increases in the northern hemisphere the lower the temperature, so we see a negative correlation. On the other hand as the latitude increase, we see a increase in temperature. In other words, there is likely a positive correlation. Looking at the r-value we see that since they are both close to either 1 or -1, there is a strong correlation between the two subjects."
   ]
  },
  {
   "cell_type": "code",
   "execution_count": null,
   "metadata": {},
   "outputs": [],
   "source": []
  },
  {
   "cell_type": "markdown",
   "metadata": {},
   "source": [
    "### Humidity vs. Latitude Linear Regression Plot"
   ]
  },
  {
   "cell_type": "code",
   "execution_count": 18,
   "metadata": {},
   "outputs": [
    {
     "name": "stdout",
     "output_type": "stream",
     "text": [
      "The r-value is: 0.120683\n"
     ]
    },
    {
     "data": {
      "text/plain": [
       "<Figure size 720x576 with 0 Axes>"
      ]
     },
     "execution_count": 18,
     "metadata": {},
     "output_type": "execute_result"
    },
    {
     "data": {
      "image/png": "[encoded data removed]",
      "text/plain": [
       "<Figure size 432x288 with 1 Axes>"
      ]
     },
     "metadata": {
      "needs_background": "light"
     },
     "output_type": "display_data"
    },
    {
     "data": {
      "text/plain": [
       "<Figure size 720x576 with 0 Axes>"
      ]
     },
     "metadata": {},
     "output_type": "display_data"
    }
   ],
   "source": [
    "# Northern Hemisphere\n",
    "north_lat = northern_hemi_df[\"Lat\"]\n",
    "north_humidity = northern_hemi_df[\"Humidity\"]\n",
    "\n",
    "wp_slope, wp_int, wp_ir, wp_ip, wp_std_err = stats.linregress(north_lat, north_humidity)\n",
    "north_fit = wp_slope * lat + wp_int\n",
    "formula = f\"y = {wp_slope: .2f}x + {wp_int: .2f}\"\n",
    "\n",
    "# The r-value\n",
    "correlation = st.pearsonr(north_lat,north_humidity)\n",
    "print(f\"The r-value is: {round(correlation[0],6)}\")\n",
    "formula = f\"y = {wp_slope: .2f}x + {wp_int: .2f}\"\n",
    "\n",
    "# The linear regression formula\n",
    "plt.annotate(formula, xy = (-10, 35), xycoords='data', color=\"red\")\n",
    "\n",
    "# Scatter plot\n",
    "plt.scatter(north_lat, north_humidity, s=50)\n",
    "plt.plot(lat,north_fit,\"-\", color=\"r\")\n",
    "plt.xlim(left=-15)\n",
    "plt.xlabel(\"Latitude\")\n",
    "plt.ylabel(\"Humidity\")\n",
    "plt.figure(figsize=(10, 8))"
   ]
  },
  {
   "cell_type": "code",
   "execution_count": 19,
   "metadata": {},
   "outputs": [
    {
     "name": "stdout",
     "output_type": "stream",
     "text": [
      "The r-value is: 0.376835\n"
     ]
    },
    {
     "data": {
      "text/plain": [
       "<Figure size 720x576 with 0 Axes>"
      ]
     },
     "execution_count": 19,
     "metadata": {},
     "output_type": "execute_result"
    },
    {
     "data": {
      "image/png": "[encoded data removed]",
      "text/plain": [
       "<Figure size 432x288 with 1 Axes>"
      ]
     },
     "metadata": {
      "needs_background": "light"
     },
     "output_type": "display_data"
    },
    {
     "data": {
      "text/plain": [
       "<Figure size 720x576 with 0 Axes>"
      ]
     },
     "metadata": {},
     "output_type": "display_data"
    }
   ],
   "source": [
    "# Southern Hemisphere\n",
    "south_lat = southern_hemi_df[\"Lat\"]\n",
    "south_humidity = southern_hemi_df[\"Humidity\"]\n",
    "\n",
    "wp_slope, wp_int, wp_ir, wp_ip, wp_std_err = stats.linregress(south_lat, south_humidity)\n",
    "south_fit = wp_slope * lat + wp_int\n",
    "formula = f\"y = {wp_slope: .2f}x + {wp_int: .2f}\"\n",
    "\n",
    "# The r-value\n",
    "correlation = st.pearsonr(south_lat,south_humidity)\n",
    "print(f\"The r-value is: {round(correlation[0],6)}\")\n",
    "\n",
    "# The linear regression formula\n",
    "plt.annotate(formula, xy = (-20, 15), xycoords='data', color=\"red\")\n",
    "\n",
    "# Scatter plot\n",
    "plt.scatter(south_lat, south_humidity, s=50)\n",
    "plt.plot(lat,south_fit,\"-\", color=\"r\")\n",
    "plt.xlim(left=-60, right=5)\n",
    "plt.xlabel(\"Latitude\")\n",
    "plt.ylabel(\"Humidity\")\n",
    "plt.figure(figsize=(10, 8))"
   ]
  },
  {
   "cell_type": "markdown",
   "metadata": {},
   "source": [
    "**Discussion about the linear relationship:** YOUR RESPONSE HERE"
   ]
  },
  {
   "attachments": {},
   "cell_type": "markdown",
   "metadata": {},
   "source": [
    "**Discussion about the linear relationship:** As the latitude increases in the northern hemisphere, we see an increase in humidity. On the other hand as the latitude decreases, we see a drop in humidity. In other words, there is likely a positive correlation between the latitude and temperature. However, due to the low r-value of 0.12 and 0.37 respectively, the correlation between the two subjects are weaker and lower."
   ]
  },
  {
   "cell_type": "markdown",
   "metadata": {},
   "source": [
    "### Cloudiness vs. Latitude Linear Regression Plot"
   ]
  },
  {
   "cell_type": "code",
   "execution_count": 20,
   "metadata": {},
   "outputs": [
    {
     "name": "stdout",
     "output_type": "stream",
     "text": [
      "The r-value is: 0.086268\n"
     ]
    },
    {
     "data": {
      "text/plain": [
       "<Figure size 720x576 with 0 Axes>"
      ]
     },
     "execution_count": 20,
     "metadata": {},
     "output_type": "execute_result"
    },
    {
     "data": {
      "image/png": "[encoded data removed]",
      "text/plain": [
       "<Figure size 432x288 with 1 Axes>"
      ]
     },
     "metadata": {
      "needs_background": "light"
     },
     "output_type": "display_data"
    },
    {
     "data": {
      "text/plain": [
       "<Figure size 720x576 with 0 Axes>"
      ]
     },
     "metadata": {},
     "output_type": "display_data"
    }
   ],
   "source": [
    "# Northern Hemisphere\n",
    "north_lat = northern_hemi_df[\"Lat\"]\n",
    "north_cloudiness = northern_hemi_df[\"Cloudiness\"]\n",
    "\n",
    "wp_slope, wp_int, wp_ir, wp_ip, wp_std_err = stats.linregress(north_lat, north_cloudiness)\n",
    "north_fit = wp_slope * lat + wp_int\n",
    "formula = f\"y = {wp_slope: .2f}x + {wp_int: .2f}\"\n",
    "\n",
    "# The r-value\n",
    "correlation = st.pearsonr(north_lat,north_cloudiness)\n",
    "print(f\"The r-value is: {round(correlation[0],6)}\")\n",
    "\n",
    "# The linear regression formula\n",
    "plt.annotate(formula, xy = (55, 55), xycoords='data', color=\"red\")\n",
    "\n",
    "# Scatter plot\n",
    "plt.scatter(north_lat, north_cloudiness, s=50)\n",
    "plt.plot(lat,north_fit,\"-\", color=\"r\")\n",
    "plt.xlim(left=-5)\n",
    "plt.xlabel(\"Latitude\")\n",
    "plt.ylabel(\"Cloudiness\")\n",
    "plt.figure(figsize=(10, 8))"
   ]
  },
  {
   "cell_type": "code",
   "execution_count": 21,
   "metadata": {},
   "outputs": [
    {
     "name": "stdout",
     "output_type": "stream",
     "text": [
      "The r-value is: 0.246885\n"
     ]
    },
    {
     "data": {
      "text/plain": [
       "<Figure size 720x576 with 0 Axes>"
      ]
     },
     "execution_count": 21,
     "metadata": {},
     "output_type": "execute_result"
    },
    {
     "data": {
      "image/png": "[encoded data removed]",
      "text/plain": [
       "<Figure size 432x288 with 1 Axes>"
      ]
     },
     "metadata": {
      "needs_background": "light"
     },
     "output_type": "display_data"
    },
    {
     "data": {
      "text/plain": [
       "<Figure size 720x576 with 0 Axes>"
      ]
     },
     "metadata": {},
     "output_type": "display_data"
    }
   ],
   "source": [
    "# Southern Hemisphere\n",
    "south_lat = southern_hemi_df[\"Lat\"]\n",
    "south_cloudiness = southern_hemi_df[\"Cloudiness\"]\n",
    "\n",
    "wp_slope, wp_int, wp_ir, wp_ip, wp_std_err = stats.linregress(south_lat, south_cloudiness)\n",
    "south_fit = wp_slope * lat + wp_int\n",
    "formula = f\"y = {wp_slope: .2f}x + {wp_int: .2f}\"\n",
    "\n",
    "# The r-value\n",
    "correlation = st.pearsonr(south_lat,south_cloudiness)\n",
    "print(f\"The r-value is: {round(correlation[0],6)}\")\n",
    "\n",
    "# The linear regression formula\n",
    "plt.annotate(formula, xy = (-59, 60), xycoords='data', color=\"red\")\n",
    "\n",
    "# Scatter plot\n",
    "plt.scatter(south_lat, south_cloudiness, s=50)\n",
    "plt.plot(lat,south_fit,\"-\", color=\"r\")\n",
    "plt.xlim(left=-60, right=5)\n",
    "plt.ylim(top=110, bottom = -5)\n",
    "plt.xlabel(\"Latitude\")\n",
    "plt.ylabel(\"Cloudiness\")\n",
    "plt.figure(figsize=(10, 8))"
   ]
  },
  {
   "attachments": {},
   "cell_type": "markdown",
   "metadata": {},
   "source": [
    "**Discussion about the linear relationship:** Overall, there is a positive correlation between latitude and cloudiness. However, looking at the data for the northern hemisphere, due to the r-value being close to 0, there is a very weak correlation. Similarly, we see this for the southern hemisphere with an r-value of 0.24. In other words, a low correlation."
   ]
  },
  {
   "cell_type": "markdown",
   "metadata": {},
   "source": [
    "### Wind Speed vs. Latitude Linear Regression Plot"
   ]
  },
  {
   "cell_type": "code",
   "execution_count": 22,
   "metadata": {},
   "outputs": [
    {
     "name": "stdout",
     "output_type": "stream",
     "text": [
      "The r-value is: 0.250484\n"
     ]
    },
    {
     "data": {
      "text/plain": [
       "<Figure size 720x576 with 0 Axes>"
      ]
     },
     "execution_count": 22,
     "metadata": {},
     "output_type": "execute_result"
    },
    {
     "data": {
      "image/png": "[encoded data removed]",
      "text/plain": [
       "<Figure size 432x288 with 1 Axes>"
      ]
     },
     "metadata": {
      "needs_background": "light"
     },
     "output_type": "display_data"
    },
    {
     "data": {
      "text/plain": [
       "<Figure size 720x576 with 0 Axes>"
      ]
     },
     "metadata": {},
     "output_type": "display_data"
    }
   ],
   "source": [
    "# Northern Hemisphere\n",
    "north_lat = northern_hemi_df[\"Lat\"]\n",
    "north_speed = northern_hemi_df[\"Wind Speed\"]\n",
    "\n",
    "wp_slope, wp_int, wp_ir, wp_ip, wp_std_err = stats.linregress(north_lat, north_speed)\n",
    "north_fit = wp_slope * lat + wp_int\n",
    "formula = f\"y = {wp_slope: .2f}x + {wp_int: .2f}\"\n",
    "\n",
    "# The r-value\n",
    "correlation = st.pearsonr(north_lat,north_speed)\n",
    "print(f\"The r-value is: {round(correlation[0],6)}\")\n",
    "\n",
    "# The linear regression formula\n",
    "plt.annotate(formula, xy = (0, 12), xycoords='data', color=\"red\")\n",
    "\n",
    "# Scatter plot\n",
    "plt.scatter(north_lat, north_speed, s=50)\n",
    "plt.plot(lat,north_fit,\"-\", color=\"r\")\n",
    "plt.xlim(left=-5)\n",
    "plt.xlabel(\"Latitude\")\n",
    "plt.ylabel(\"Wind Speed\")\n",
    "plt.figure(figsize=(10, 8))"
   ]
  },
  {
   "cell_type": "code",
   "execution_count": 23,
   "metadata": {},
   "outputs": [
    {
     "name": "stdout",
     "output_type": "stream",
     "text": [
      "The r-value is: -0.270169\n"
     ]
    },
    {
     "data": {
      "text/plain": [
       "<Figure size 720x576 with 0 Axes>"
      ]
     },
     "execution_count": 23,
     "metadata": {},
     "output_type": "execute_result"
    },
    {
     "data": {
      "image/png": "[encoded data removed]",
      "text/plain": [
       "<Figure size 432x288 with 1 Axes>"
      ]
     },
     "metadata": {
      "needs_background": "light"
     },
     "output_type": "display_data"
    },
    {
     "data": {
      "text/plain": [
       "<Figure size 720x576 with 0 Axes>"
      ]
     },
     "metadata": {},
     "output_type": "display_data"
    }
   ],
   "source": [
    "# Southern Hemisphere\n",
    "south_lat = southern_hemi_df[\"Lat\"]\n",
    "south_speed = southern_hemi_df[\"Wind Speed\"]\n",
    "\n",
    "wp_slope, wp_int, wp_ir, wp_ip, wp_std_err = stats.linregress(south_lat, south_speed)\n",
    "south_fit = wp_slope * lat + wp_int\n",
    "formula = f\"y = {wp_slope: .2f}x + {wp_int: .2f}\"\n",
    "\n",
    "# The r-value\n",
    "correlation = st.pearsonr(south_lat,south_speed)\n",
    "print(f\"The r-value is: {round(correlation[0],6)}\")\n",
    "\n",
    "# The linear regression formula\n",
    "plt.annotate(formula, xy = (-55, 10), xycoords='data', color=\"red\")\n",
    "\n",
    "# Scatter plot\n",
    "plt.scatter(south_lat, south_speed, s=50)\n",
    "plt.plot(lat,south_fit,\"-\", color=\"r\")\n",
    "plt.xlim(right=5)\n",
    "plt.xlabel(\"Latitude\")\n",
    "plt.ylabel(\"Wind Speed\")\n",
    "plt.figure(figsize=(10, 8))"
   ]
  },
  {
   "attachments": {},
   "cell_type": "markdown",
   "metadata": {},
   "source": [
    "**Discussion about the linear relationship:** Comparing the latitude of the wind speed of the northern hemispher, we see a positive correlation. However, due to the low r-value of 0.25 – there is a weak correlation between the two. On the other side, the southern hemisphere has negative correlation. In other words, as the latitude increases, the wind speed decreases. Looking at the r-value, we see as similar, yet different situation where the r-value is -0.27. Which means that there is a weak correlation as well. "
   ]
  },
  {
   "cell_type": "markdown",
   "metadata": {},
   "source": []
  }
 ],
 "metadata": {
  "anaconda-cloud": {},
  "kernel_info": {
   "name": "python3"
  },
  "kernelspec": {
   "display_name": "PythonData",
   "language": "python",
   "name": "python3"
  },
  "language_info": {
   "codemirror_mode": {
    "name": "ipython",
    "version": 3
   },
   "file_extension": ".py",
   "mimetype": "text/x-python",
   "name": "python",
   "nbconvert_exporter": "python",
   "pygments_lexer": "ipython3",
   "version": "3.7.7"
  },
  "latex_envs": {
   "LaTeX_envs_menu_present": true,
   "autoclose": false,
   "autocomplete": true,
   "bibliofile": "biblio.bib",
   "cite_by": "apalike",
   "current_citInitial": 1,
   "eqLabelWithNumbers": true,
   "eqNumInitial": 1,
   "hotkeys": {
    "equation": "Ctrl-E",
    "itemize": "Ctrl-I"
   },
   "labels_anchors": false,
   "latex_user_defs": false,
   "report_style_numbering": false,
   "user_envs_cfg": false
  },
  "nteract": {
   "version": "0.12.3"
  }
 },
 "nbformat": 4,
 "nbformat_minor": 4
}
